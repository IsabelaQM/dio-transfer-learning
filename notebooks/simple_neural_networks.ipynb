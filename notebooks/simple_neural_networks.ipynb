{
 "cells": [
  {
   "cell_type": "markdown",
   "metadata": {},
   "source": [
    "### Introducing Keras\n",
    "\n",
    "In the next cell, we introduce [Keras](http://keras.io/), a high-level library for machine learning which we will use for the rest of the class. Keras is built on top of [Tensorflow](https://tensorflow.org/), which is an open-source framework which impelments machine learning methodology, particularly that of deep neural networks, by optimizing the efficiency of the computation. We do not have to deal so much with the details of this. For our purposes, Tensorflow is also a very low-level library which is not necessarily accessible to the typical engineer. Keras solves this by creating a wrapper around Tensorflow, reducing the complexity of coding neural networks, and giving us a set of convenient functions which implement lots of reusable routines. Most importantly, Keras (via Tensorflow) efficiently implement backpropagation to train neural networks on the GPU. Effectively, you could say that Keras is to Tensorflow what [Processing](http://processing.org/) is to Java.\n",
    "\n",
    "To start, we will re-implement what we did in the last section, a neural network to classify the Iris dataset, but this time we will use Keras.\n",
    "\n",
    "Start by importing the relevant Keras libraries that we will be using, as well as matplotlib and numpy."
   ]
  },
  {
   "cell_type": "code",
   "execution_count": 1,
   "metadata": {},
   "outputs": [
    {
     "name": "stderr",
     "output_type": "stream",
     "text": [
      "Using TensorFlow backend.\n"
     ]
    }
   ],
   "source": [
    "import os\n",
    "import matplotlib.pyplot as plt\n",
    "import numpy as np\n",
    "import random\n",
    "\n",
    "import keras\n",
    "from keras.models import Sequential\n",
    "from keras.layers import Dense, Dropout"
   ]
  },
  {
   "cell_type": "markdown",
   "metadata": {},
   "source": [
    "Let's load the Iris dataset again."
   ]
  },
  {
   "cell_type": "code",
   "execution_count": 2,
   "metadata": {},
   "outputs": [
    {
     "data": {
      "text/plain": [
       "(150, 3)"
      ]
     },
     "execution_count": 2,
     "metadata": {},
     "output_type": "execute_result"
    }
   ],
   "source": [
    "from sklearn.datasets import load_iris\n",
    "\n",
    "iris = load_iris()\n",
    "data, labels = iris.data[:,0:3], iris.data[:,3]\n",
    "data.shape"
   ]
  },
  {
   "cell_type": "markdown",
   "metadata": {},
   "source": [
    "In the last lesson, we manually trained a neural network to predict the sepal width of the Iris flowers. This time, let's use the Keras library instead. First we need to shuffle and pre-process the data. Pre-processing in this case is normalization of the data, as well as converting it to a properly-shaped numpy array."
   ]
  },
  {
   "cell_type": "code",
   "execution_count": 3,
   "metadata": {},
   "outputs": [
    {
     "name": "stdout",
     "output_type": "stream",
     "text": [
      "shape of X (150, 3)\n",
      "first 5 rows of X\n",
      " [[0.9746835  0.6818182  0.884058  ]\n",
      " [0.84810126 0.75       0.82608694]\n",
      " [0.6455696  0.8636364  0.2173913 ]\n",
      " [0.70886075 0.6818182  0.65217394]\n",
      " [0.62025315 0.70454544 0.2173913 ]]\n",
      "first 5 labels\n",
      " [0.92 1.   0.12 0.6  0.04]\n"
     ]
    }
   ],
   "source": [
    "num_samples = len(labels)  # size of our dataset\n",
    "shuffle_order = np.random.permutation(num_samples)\n",
    "data = data[shuffle_order, :]\n",
    "labels = labels[shuffle_order]\n",
    "\n",
    "# normalize data and labels to between 0 and 1 and make sure it's float32\n",
    "data = data / np.amax(data, axis=0)\n",
    "data = data.astype('float32')\n",
    "labels = labels / np.amax(labels, axis=0)\n",
    "labels = labels.astype('float32')\n",
    "\n",
    "\n",
    "# print out the data\n",
    "print(\"shape of X\", data.shape)\n",
    "print(\"first 5 rows of X\\n\", data[0:5, :])\n",
    "print(\"first 5 labels\\n\", labels[0:5])"
   ]
  },
  {
   "cell_type": "markdown",
   "metadata": {},
   "source": [
    "### Overfitting and validation\n",
    "\n",
    "In our previous guides, we always evaluated the performance of the network on the same data that we trained it on. But this is wrong; our network could learn to \"cheat\" by overfitting to the training data (like memorizing it) so as to get a high score, but then not generalize well to actually unknown examples.\n",
    "\n",
    "In machine learning, this is called \"overfitting\" and there are several things we have to do to avoid it. The first thing is we must split our dataset into a \"training set\" which we train on with gradient descent, and a \"test set\" which is hidden from the training process that we can do a final evaluation on to get the true accuracy, that of the network trying to predict unknown samples.\n",
    "\n",
    "Let's split the data into a training set and a test set. We'll keep the first 30% of the dataset to use as a test set, and use the rest for training."
   ]
  },
  {
   "cell_type": "code",
   "execution_count": 4,
   "metadata": {},
   "outputs": [
    {
     "name": "stdout",
     "output_type": "stream",
     "text": [
      "105 training samples, 45 test samples\n"
     ]
    }
   ],
   "source": [
    "# let's rename the data and labels to X, y\n",
    "X, y = data, labels\n",
    "\n",
    "test_split = 0.3  # percent split\n",
    "\n",
    "n_test = int(test_split * num_samples)\n",
    "\n",
    "x_train, x_test = X[n_test:, :], X[:n_test, :] \n",
    "y_train, y_test = y[n_test:], y[:n_test] \n",
    "\n",
    "print('%d training samples, %d test samples' % (x_train.shape[0], x_test.shape[0]))"
   ]
  },
  {
   "cell_type": "markdown",
   "metadata": {},
   "source": [
    "In Keras, to instantiate a neural network model, we use the `Sequential` class. Sequential simply means a model with a sequence of layers which propagate in one direction, from input to output. "
   ]
  },
  {
   "cell_type": "code",
   "execution_count": 5,
   "metadata": {},
   "outputs": [
    {
     "name": "stdout",
     "output_type": "stream",
     "text": [
      "Variable        Type          Data/Info\n",
      "---------------------------------------\n",
      "Dense           type          <class 'keras.layers.core.Dense'>\n",
      "Dropout         type          <class 'keras.layers.core.Dropout'>\n",
      "Sequential      type          <class 'keras.engine.sequential.Sequential'>\n",
      "X               ndarray       150x3: 450 elems, type `float32`, 1800 bytes\n",
      "data            ndarray       150x3: 450 elems, type `float32`, 1800 bytes\n",
      "iris            Bunch         {'data': array([[5.1, 3.5<...>m)', 'petal width (cm)']}\n",
      "keras           module        <module 'keras' from '/Us<...>kages/keras/__init__.py'>\n",
      "labels          ndarray       150: 150 elems, type `float32`, 600 bytes\n",
      "load_iris       function      <function load_iris at 0x1257fda60>\n",
      "model           Sequential    <keras.engine.sequential.<...>al object at 0x126625a58>\n",
      "n_test          int           45\n",
      "np              module        <module 'numpy' from '/Us<...>kages/numpy/__init__.py'>\n",
      "num_samples     int           150\n",
      "os              module        <module 'os' from '/Users<...>mac/lib/python3.6/os.py'>\n",
      "plt             module        <module 'matplotlib.pyplo<...>es/matplotlib/pyplot.py'>\n",
      "random          module        <module 'random' from '/U<...>lib/python3.6/random.py'>\n",
      "shuffle_order   ndarray       150: 150 elems, type `int64`, 1200 bytes\n",
      "test_split      float         0.3\n",
      "x_test          ndarray       45x3: 135 elems, type `float32`, 540 bytes\n",
      "x_train         ndarray       105x3: 315 elems, type `float32`, 1260 bytes\n",
      "y               ndarray       150: 150 elems, type `float32`, 600 bytes\n",
      "y_test          ndarray       45: 45 elems, type `float32`, 180 bytes\n",
      "y_train         ndarray       105: 105 elems, type `float32`, 420 bytes\n"
     ]
    },
    {
     "data": {
      "text/plain": [
       "{'name': 'sequential_1',\n",
       " 'trainable': True,\n",
       " '_is_compiled': False,\n",
       " '_expects_training_arg': False,\n",
       " '_initial_weights': None,\n",
       " 'supports_masking': False,\n",
       " 'optimizer': None,\n",
       " '_updates': [],\n",
       " '_losses': [],\n",
       " '_per_input_losses': {},\n",
       " '_per_input_updates': {},\n",
       " '_layers': [],\n",
       " '_outbound_nodes': [],\n",
       " '_inbound_nodes': [],\n",
       " '_is_graph_network': False,\n",
       " '_uses_inputs_arg': True,\n",
       " 'outputs': None,\n",
       " 'inputs': None,\n",
       " '_built': False,\n",
       " '_build_input_shape': None}"
      ]
     },
     "execution_count": 5,
     "metadata": {},
     "output_type": "execute_result"
    }
   ],
   "source": [
    "model = Sequential()\n",
    "%whos\n",
    "vars(model)"
   ]
  },
  {
   "cell_type": "markdown",
   "metadata": {},
   "source": [
    "We now have an empty neural network called `model`. Now let's add our first layer, which will be our input layer. We will do this using Keras's `Dense` class which will instantiate our input layer.\n",
    "\n",
    "The reason why it is called \"Dense\" is that the layer is \"fully-connected,\" which means that all of it's neurons are connected to all the neurons in the previous layer, with no empty connections. This may seem confusing at first because we have not yet seen neural network layers which are not fully-connected; we will see this in the next chapter when we introduce convolutional networks. \n",
    "\n",
    "To create a Dense layer, we have two arguments that need to be specified: the number of neurons and the activation function (which non-linearity, if any). For the first layer, we must also specify the input dimension."
   ]
  },
  {
   "cell_type": "code",
   "execution_count": 6,
   "metadata": {},
   "outputs": [],
   "source": [
    "model.add(Dense(8, activation='sigmoid', input_dim=3))\n"
   ]
  },
  {
   "cell_type": "markdown",
   "metadata": {},
   "source": [
    "We can also get a readout of the current state of the network using `model.summary`:"
   ]
  },
  {
   "cell_type": "code",
   "execution_count": 7,
   "metadata": {},
   "outputs": [
    {
     "name": "stdout",
     "output_type": "stream",
     "text": [
      "_________________________________________________________________\n",
      "Layer (type)                 Output Shape              Param #   \n",
      "=================================================================\n",
      "dense_1 (Dense)              (None, 8)                 32        \n",
      "=================================================================\n",
      "Total params: 32\n",
      "Trainable params: 32\n",
      "Non-trainable params: 0\n",
      "_________________________________________________________________\n"
     ]
    }
   ],
   "source": [
    "model.summary()"
   ]
  },
  {
   "cell_type": "markdown",
   "metadata": {},
   "source": [
    "Our network currently has one layer with 32 parameters: that's 3 neurons in the input layer, times 8 neurons in the middle layer (3x8=24), plus 8 biases (24+8=32).\n",
    "\n",
    "Next, we will add the output layer, which will be a fully-connected (Dense) layer whose size is 1 neuron. This neuron will contain our final output.\n",
    "\n",
    "Notice that this time, instead of having the activation be a sigmoid as before, we leave it as a \"linear\" activation (no non-linearity). This is common for the final output.\n",
    "\n",
    "We add it, and look at the final summary."
   ]
  },
  {
   "cell_type": "code",
   "execution_count": 8,
   "metadata": {},
   "outputs": [
    {
     "name": "stdout",
     "output_type": "stream",
     "text": [
      "_________________________________________________________________\n",
      "Layer (type)                 Output Shape              Param #   \n",
      "=================================================================\n",
      "dense_1 (Dense)              (None, 8)                 32        \n",
      "_________________________________________________________________\n",
      "dense_2 (Dense)              (None, 1)                 9         \n",
      "=================================================================\n",
      "Total params: 41\n",
      "Trainable params: 41\n",
      "Non-trainable params: 0\n",
      "_________________________________________________________________\n"
     ]
    }
   ],
   "source": [
    "model.add(Dense(1, activation='linear'))\n",
    "model.summary()"
   ]
  },
  {
   "cell_type": "markdown",
   "metadata": {},
   "source": [
    "So we've added 9 parameters, 8x1 weights between the hidden and output layers, and 1 bias in the output. So we have 41 parameters in total."
   ]
  },
  {
   "cell_type": "markdown",
   "metadata": {},
   "source": [
    "Now we are finished specifying the architecture of the model. Now we need to specify our loss function and optimizer, and then compile the model. Let's discuss each of these things.\n",
    "\n",
    "First, we specify the loss. The standard for regression, as we said before is sum-squared error (SSE) or mean-squared error (MSE). SSE and MSE are basically the same, since the only difference between them is a scaling factor ($\\frac{1}{n}$) which doesn't depend on the final weights. Keras happens to use MSE for evaluation rather than SEE, so we will use that.\n",
    "\n",
    "The optimizer is the flavor of gradient descent we want. The most basic optimizer is \"stochastic gradient descent\" or SGD which is the learning algorithm we have used so far. We have mostly used batch gradient descent so far, which means we compute our gradient over the entire dataset. For reasons which will be more clear when we cover learning algorithms in more detail, this is not usually favored, and we instead calculate the gradient over random subsets of the training data, called mini-batches.\n",
    "\n",
    "Once we've specified our loss function and optimizer, the model is compiled. Compiling means that Keras (actually Tensorflow internally) is allocating memory for a \"computational graph\" whose architecture is that which is specified by your model definition. This is done for optimization purposes, and a full understanding of how that's done is not necessary for this course and is beyond its scope."
   ]
  },
  {
   "cell_type": "code",
   "execution_count": 15,
   "metadata": {},
   "outputs": [
    {
     "name": "stdout",
     "output_type": "stream",
     "text": [
      "_________________________________________________________________\n",
      "Layer (type)                 Output Shape              Param #   \n",
      "=================================================================\n",
      "dense_1 (Dense)              (None, 8)                 32        \n",
      "_________________________________________________________________\n",
      "dense_2 (Dense)              (None, 1)                 9         \n",
      "=================================================================\n",
      "Total params: 41\n",
      "Trainable params: 41\n",
      "Non-trainable params: 0\n",
      "_________________________________________________________________\n"
     ]
    }
   ],
   "source": [
    "model.compile(loss='mean_squared_error', optimizer='sgd')\n",
    "model.summary()"
   ]
  },
  {
   "cell_type": "markdown",
   "metadata": {},
   "source": [
    "We are finally ready to train. In the next cell, we run the `fit` command which will begin the process of training. There are several important arguments to `fit`. The first is the training data and labels (`x_train` and `y_train`), as well as the validation set (`x_test` and `y_test`). \n",
    "\n",
    "Additionally, we must specify the `batch_size` which refers to the number of training samples to calculate the gradient over (using SGD), as well as the number of `epochs`, which refers to the number of times we cycle through the training set. In general, more epochs are usually better, although in practice, the accuracy of the network may stop improving early, which makes it unnecessary to train for too many epochs.\n",
    "\n",
    "Because we have a very small dataset (just 105 samples), we should have a low batch size and can afford to train over many epochs (let's set to 200)."
   ]
  },
  {
   "cell_type": "code",
   "execution_count": 21,
   "metadata": {},
   "outputs": [
    {
     "name": "stdout",
     "output_type": "stream",
     "text": [
      "(105, 3)\n",
      "(105,)\n",
      "(45, 3)\n",
      "(45,)\n",
      "Train on 105 samples, validate on 45 samples\n",
      "Epoch 1/200\n",
      "105/105 [==============================] - 0s 487us/step - loss: 0.0054 - val_loss: 0.0102\n",
      "Epoch 2/200\n",
      "105/105 [==============================] - 0s 460us/step - loss: 0.0055 - val_loss: 0.0106\n",
      "Epoch 3/200\n",
      "105/105 [==============================] - 0s 405us/step - loss: 0.0054 - val_loss: 0.0105\n",
      "Epoch 4/200\n",
      "105/105 [==============================] - 0s 400us/step - loss: 0.0054 - val_loss: 0.0105\n",
      "Epoch 5/200\n",
      "105/105 [==============================] - 0s 374us/step - loss: 0.0054 - val_loss: 0.0105\n",
      "Epoch 6/200\n",
      "105/105 [==============================] - 0s 361us/step - loss: 0.0054 - val_loss: 0.0104\n",
      "Epoch 7/200\n",
      "105/105 [==============================] - 0s 437us/step - loss: 0.0054 - val_loss: 0.0106\n",
      "Epoch 8/200\n",
      "105/105 [==============================] - 0s 453us/step - loss: 0.0054 - val_loss: 0.0109\n",
      "Epoch 9/200\n",
      "105/105 [==============================] - 0s 438us/step - loss: 0.0054 - val_loss: 0.0106\n",
      "Epoch 10/200\n",
      "105/105 [==============================] - 0s 408us/step - loss: 0.0054 - val_loss: 0.0106\n",
      "Epoch 11/200\n",
      "105/105 [==============================] - 0s 426us/step - loss: 0.0054 - val_loss: 0.0108\n",
      "Epoch 12/200\n",
      "105/105 [==============================] - 0s 420us/step - loss: 0.0054 - val_loss: 0.0106\n",
      "Epoch 13/200\n",
      "105/105 [==============================] - 0s 418us/step - loss: 0.0054 - val_loss: 0.0110\n",
      "Epoch 14/200\n",
      "105/105 [==============================] - 0s 392us/step - loss: 0.0054 - val_loss: 0.0103\n",
      "Epoch 15/200\n",
      "105/105 [==============================] - 0s 483us/step - loss: 0.0054 - val_loss: 0.0108\n",
      "Epoch 16/200\n",
      "105/105 [==============================] - 0s 387us/step - loss: 0.0054 - val_loss: 0.0109\n",
      "Epoch 17/200\n",
      "105/105 [==============================] - 0s 400us/step - loss: 0.0054 - val_loss: 0.0106\n",
      "Epoch 18/200\n",
      "105/105 [==============================] - 0s 558us/step - loss: 0.0054 - val_loss: 0.0105\n",
      "Epoch 19/200\n",
      "105/105 [==============================] - 0s 458us/step - loss: 0.0054 - val_loss: 0.0104\n",
      "Epoch 20/200\n",
      "105/105 [==============================] - 0s 412us/step - loss: 0.0054 - val_loss: 0.0106\n",
      "Epoch 21/200\n",
      "105/105 [==============================] - 0s 410us/step - loss: 0.0054 - val_loss: 0.0105\n",
      "Epoch 22/200\n",
      "105/105 [==============================] - 0s 387us/step - loss: 0.0054 - val_loss: 0.0104\n",
      "Epoch 23/200\n",
      "105/105 [==============================] - 0s 493us/step - loss: 0.0054 - val_loss: 0.0105\n",
      "Epoch 24/200\n",
      "105/105 [==============================] - 0s 376us/step - loss: 0.0054 - val_loss: 0.0104\n",
      "Epoch 25/200\n",
      "105/105 [==============================] - 0s 385us/step - loss: 0.0054 - val_loss: 0.0104\n",
      "Epoch 26/200\n",
      "105/105 [==============================] - 0s 417us/step - loss: 0.0054 - val_loss: 0.0105\n",
      "Epoch 27/200\n",
      "105/105 [==============================] - 0s 376us/step - loss: 0.0054 - val_loss: 0.0106\n",
      "Epoch 28/200\n",
      "105/105 [==============================] - 0s 374us/step - loss: 0.0054 - val_loss: 0.0108\n",
      "Epoch 29/200\n",
      "105/105 [==============================] - 0s 360us/step - loss: 0.0054 - val_loss: 0.0108\n",
      "Epoch 30/200\n",
      "105/105 [==============================] - 0s 355us/step - loss: 0.0054 - val_loss: 0.0105\n",
      "Epoch 31/200\n",
      "105/105 [==============================] - 0s 381us/step - loss: 0.0054 - val_loss: 0.0108\n",
      "Epoch 32/200\n",
      "105/105 [==============================] - 0s 387us/step - loss: 0.0054 - val_loss: 0.0107\n",
      "Epoch 33/200\n",
      "105/105 [==============================] - 0s 326us/step - loss: 0.0054 - val_loss: 0.0103\n",
      "Epoch 34/200\n",
      "105/105 [==============================] - 0s 344us/step - loss: 0.0054 - val_loss: 0.0102\n",
      "Epoch 35/200\n",
      "105/105 [==============================] - 0s 403us/step - loss: 0.0054 - val_loss: 0.0106\n",
      "Epoch 36/200\n",
      "105/105 [==============================] - 0s 309us/step - loss: 0.0054 - val_loss: 0.0104\n",
      "Epoch 37/200\n",
      "105/105 [==============================] - 0s 350us/step - loss: 0.0053 - val_loss: 0.0107\n",
      "Epoch 38/200\n",
      "105/105 [==============================] - 0s 351us/step - loss: 0.0053 - val_loss: 0.0104\n",
      "Epoch 39/200\n",
      "105/105 [==============================] - 0s 395us/step - loss: 0.0054 - val_loss: 0.0105\n",
      "Epoch 40/200\n",
      "105/105 [==============================] - 0s 381us/step - loss: 0.0054 - val_loss: 0.0107\n",
      "Epoch 41/200\n",
      "105/105 [==============================] - 0s 467us/step - loss: 0.0054 - val_loss: 0.0105\n",
      "Epoch 42/200\n",
      "105/105 [==============================] - 0s 357us/step - loss: 0.0054 - val_loss: 0.0104\n",
      "Epoch 43/200\n",
      "105/105 [==============================] - 0s 333us/step - loss: 0.0054 - val_loss: 0.0103\n",
      "Epoch 44/200\n",
      "105/105 [==============================] - 0s 332us/step - loss: 0.0054 - val_loss: 0.0106\n",
      "Epoch 45/200\n",
      "105/105 [==============================] - 0s 343us/step - loss: 0.0054 - val_loss: 0.0106\n",
      "Epoch 46/200\n",
      "105/105 [==============================] - 0s 336us/step - loss: 0.0054 - val_loss: 0.0109\n",
      "Epoch 47/200\n",
      "105/105 [==============================] - 0s 323us/step - loss: 0.0054 - val_loss: 0.0103\n",
      "Epoch 48/200\n",
      "105/105 [==============================] - 0s 326us/step - loss: 0.0054 - val_loss: 0.0103\n",
      "Epoch 49/200\n",
      "105/105 [==============================] - 0s 330us/step - loss: 0.0054 - val_loss: 0.0106\n",
      "Epoch 50/200\n",
      "105/105 [==============================] - 0s 340us/step - loss: 0.0054 - val_loss: 0.0105\n",
      "Epoch 51/200\n",
      "105/105 [==============================] - 0s 323us/step - loss: 0.0054 - val_loss: 0.0105\n",
      "Epoch 52/200\n",
      "105/105 [==============================] - 0s 326us/step - loss: 0.0054 - val_loss: 0.0104\n",
      "Epoch 53/200\n",
      "105/105 [==============================] - 0s 323us/step - loss: 0.0054 - val_loss: 0.0106\n",
      "Epoch 54/200\n",
      "105/105 [==============================] - 0s 358us/step - loss: 0.0054 - val_loss: 0.0104\n",
      "Epoch 55/200\n",
      "105/105 [==============================] - 0s 339us/step - loss: 0.0054 - val_loss: 0.0103\n",
      "Epoch 56/200\n",
      "105/105 [==============================] - 0s 340us/step - loss: 0.0054 - val_loss: 0.0105\n",
      "Epoch 57/200\n",
      "105/105 [==============================] - 0s 333us/step - loss: 0.0054 - val_loss: 0.0105\n",
      "Epoch 58/200\n",
      "105/105 [==============================] - 0s 586us/step - loss: 0.0054 - val_loss: 0.0105\n",
      "Epoch 59/200\n",
      "105/105 [==============================] - 0s 475us/step - loss: 0.0054 - val_loss: 0.0104\n",
      "Epoch 60/200\n",
      "105/105 [==============================] - 0s 389us/step - loss: 0.0054 - val_loss: 0.0105\n",
      "Epoch 61/200\n",
      "105/105 [==============================] - 0s 424us/step - loss: 0.0054 - val_loss: 0.0105\n",
      "Epoch 62/200\n",
      "105/105 [==============================] - 0s 354us/step - loss: 0.0054 - val_loss: 0.0104\n",
      "Epoch 63/200\n",
      "105/105 [==============================] - 0s 340us/step - loss: 0.0054 - val_loss: 0.0105\n",
      "Epoch 64/200\n",
      "105/105 [==============================] - 0s 347us/step - loss: 0.0054 - val_loss: 0.0105\n",
      "Epoch 65/200\n",
      "105/105 [==============================] - 0s 348us/step - loss: 0.0053 - val_loss: 0.0102\n",
      "Epoch 66/200\n",
      "105/105 [==============================] - 0s 318us/step - loss: 0.0054 - val_loss: 0.0104\n",
      "Epoch 67/200\n",
      "105/105 [==============================] - 0s 328us/step - loss: 0.0054 - val_loss: 0.0105\n",
      "Epoch 68/200\n",
      "105/105 [==============================] - 0s 302us/step - loss: 0.0053 - val_loss: 0.0102\n",
      "Epoch 69/200\n",
      "105/105 [==============================] - 0s 340us/step - loss: 0.0054 - val_loss: 0.0104\n",
      "Epoch 70/200\n",
      "105/105 [==============================] - 0s 335us/step - loss: 0.0053 - val_loss: 0.0106\n",
      "Epoch 71/200\n",
      "105/105 [==============================] - 0s 317us/step - loss: 0.0054 - val_loss: 0.0106\n",
      "Epoch 72/200\n",
      "105/105 [==============================] - 0s 323us/step - loss: 0.0054 - val_loss: 0.0107\n",
      "Epoch 73/200\n",
      "105/105 [==============================] - 0s 296us/step - loss: 0.0054 - val_loss: 0.0103\n",
      "Epoch 74/200\n",
      "105/105 [==============================] - 0s 347us/step - loss: 0.0054 - val_loss: 0.0104\n",
      "Epoch 75/200\n",
      "105/105 [==============================] - 0s 374us/step - loss: 0.0054 - val_loss: 0.0103\n",
      "Epoch 76/200\n",
      "105/105 [==============================] - 0s 354us/step - loss: 0.0054 - val_loss: 0.0105\n",
      "Epoch 77/200\n",
      "105/105 [==============================] - 0s 339us/step - loss: 0.0053 - val_loss: 0.0102\n",
      "Epoch 78/200\n",
      "105/105 [==============================] - 0s 338us/step - loss: 0.0054 - val_loss: 0.0104\n",
      "Epoch 79/200\n",
      "105/105 [==============================] - 0s 368us/step - loss: 0.0054 - val_loss: 0.0104\n",
      "Epoch 80/200\n",
      "105/105 [==============================] - 0s 364us/step - loss: 0.0054 - val_loss: 0.0104\n",
      "Epoch 81/200\n",
      "105/105 [==============================] - 0s 300us/step - loss: 0.0054 - val_loss: 0.0104\n",
      "Epoch 82/200\n",
      "105/105 [==============================] - 0s 301us/step - loss: 0.0054 - val_loss: 0.0105\n",
      "Epoch 83/200\n",
      "105/105 [==============================] - 0s 299us/step - loss: 0.0053 - val_loss: 0.0109\n",
      "Epoch 84/200\n",
      "105/105 [==============================] - 0s 390us/step - loss: 0.0054 - val_loss: 0.0103\n",
      "Epoch 85/200\n",
      "105/105 [==============================] - 0s 369us/step - loss: 0.0054 - val_loss: 0.0102\n",
      "Epoch 86/200\n",
      "105/105 [==============================] - 0s 381us/step - loss: 0.0054 - val_loss: 0.0104\n",
      "Epoch 87/200\n",
      "105/105 [==============================] - 0s 344us/step - loss: 0.0054 - val_loss: 0.0105\n",
      "Epoch 88/200\n",
      "105/105 [==============================] - 0s 360us/step - loss: 0.0054 - val_loss: 0.0104\n",
      "Epoch 89/200\n",
      "105/105 [==============================] - 0s 361us/step - loss: 0.0053 - val_loss: 0.0109\n",
      "Epoch 90/200\n",
      "105/105 [==============================] - 0s 357us/step - loss: 0.0054 - val_loss: 0.0103\n",
      "Epoch 91/200\n",
      "105/105 [==============================] - 0s 350us/step - loss: 0.0054 - val_loss: 0.0103\n",
      "Epoch 92/200\n",
      "105/105 [==============================] - 0s 377us/step - loss: 0.0054 - val_loss: 0.0105\n",
      "Epoch 93/200\n",
      "105/105 [==============================] - 0s 351us/step - loss: 0.0054 - val_loss: 0.0104\n",
      "Epoch 94/200\n",
      "105/105 [==============================] - 0s 372us/step - loss: 0.0054 - val_loss: 0.0107\n",
      "Epoch 95/200\n",
      "105/105 [==============================] - 0s 366us/step - loss: 0.0053 - val_loss: 0.0104\n",
      "Epoch 96/200\n",
      "105/105 [==============================] - 0s 342us/step - loss: 0.0053 - val_loss: 0.0105\n",
      "Epoch 97/200\n",
      "105/105 [==============================] - 0s 325us/step - loss: 0.0053 - val_loss: 0.0105\n",
      "Epoch 98/200\n",
      "105/105 [==============================] - 0s 292us/step - loss: 0.0054 - val_loss: 0.0110\n",
      "Epoch 99/200\n",
      "105/105 [==============================] - 0s 316us/step - loss: 0.0054 - val_loss: 0.0107\n",
      "Epoch 100/200\n",
      "105/105 [==============================] - 0s 322us/step - loss: 0.0054 - val_loss: 0.0104\n",
      "Epoch 101/200\n",
      "105/105 [==============================] - 0s 287us/step - loss: 0.0054 - val_loss: 0.0102\n",
      "Epoch 102/200\n",
      "105/105 [==============================] - 0s 327us/step - loss: 0.0054 - val_loss: 0.0106\n",
      "Epoch 103/200\n",
      "105/105 [==============================] - 0s 293us/step - loss: 0.0053 - val_loss: 0.0103\n",
      "Epoch 104/200\n",
      "105/105 [==============================] - 0s 367us/step - loss: 0.0054 - val_loss: 0.0102\n",
      "Epoch 105/200\n",
      "105/105 [==============================] - 0s 382us/step - loss: 0.0054 - val_loss: 0.0104\n",
      "Epoch 106/200\n",
      "105/105 [==============================] - 0s 389us/step - loss: 0.0054 - val_loss: 0.0108\n",
      "Epoch 107/200\n",
      "105/105 [==============================] - 0s 421us/step - loss: 0.0053 - val_loss: 0.0103\n",
      "Epoch 108/200\n",
      "105/105 [==============================] - 0s 381us/step - loss: 0.0054 - val_loss: 0.0105\n",
      "Epoch 109/200\n",
      "105/105 [==============================] - 0s 335us/step - loss: 0.0054 - val_loss: 0.0106\n",
      "Epoch 110/200\n",
      "105/105 [==============================] - 0s 393us/step - loss: 0.0053 - val_loss: 0.0104\n",
      "Epoch 111/200\n",
      "105/105 [==============================] - 0s 410us/step - loss: 0.0054 - val_loss: 0.0105\n",
      "Epoch 112/200\n",
      "105/105 [==============================] - 0s 390us/step - loss: 0.0054 - val_loss: 0.0102\n",
      "Epoch 113/200\n",
      "105/105 [==============================] - 0s 403us/step - loss: 0.0054 - val_loss: 0.0103\n",
      "Epoch 114/200\n",
      "105/105 [==============================] - 0s 352us/step - loss: 0.0054 - val_loss: 0.0104\n",
      "Epoch 115/200\n",
      "105/105 [==============================] - 0s 412us/step - loss: 0.0054 - val_loss: 0.0105\n",
      "Epoch 116/200\n",
      "105/105 [==============================] - 0s 296us/step - loss: 0.0054 - val_loss: 0.0104\n",
      "Epoch 117/200\n",
      "105/105 [==============================] - 0s 386us/step - loss: 0.0054 - val_loss: 0.0104\n",
      "Epoch 118/200\n",
      "105/105 [==============================] - 0s 301us/step - loss: 0.0053 - val_loss: 0.0108\n",
      "Epoch 119/200\n",
      "105/105 [==============================] - 0s 345us/step - loss: 0.0054 - val_loss: 0.0105\n",
      "Epoch 120/200\n",
      "105/105 [==============================] - 0s 359us/step - loss: 0.0054 - val_loss: 0.0105\n",
      "Epoch 121/200\n",
      "105/105 [==============================] - 0s 338us/step - loss: 0.0054 - val_loss: 0.0103\n",
      "Epoch 122/200\n",
      "105/105 [==============================] - 0s 373us/step - loss: 0.0054 - val_loss: 0.0103\n",
      "Epoch 123/200\n",
      "105/105 [==============================] - 0s 370us/step - loss: 0.0053 - val_loss: 0.0104\n",
      "Epoch 124/200\n",
      "105/105 [==============================] - 0s 358us/step - loss: 0.0053 - val_loss: 0.0102\n",
      "Epoch 125/200\n",
      "105/105 [==============================] - 0s 351us/step - loss: 0.0054 - val_loss: 0.0107\n",
      "Epoch 126/200\n",
      "105/105 [==============================] - 0s 350us/step - loss: 0.0053 - val_loss: 0.0102\n",
      "Epoch 127/200\n",
      "105/105 [==============================] - 0s 389us/step - loss: 0.0055 - val_loss: 0.0103\n",
      "Epoch 128/200\n",
      "105/105 [==============================] - 0s 373us/step - loss: 0.0053 - val_loss: 0.0103\n",
      "Epoch 129/200\n",
      "105/105 [==============================] - 0s 336us/step - loss: 0.0054 - val_loss: 0.0105\n",
      "Epoch 130/200\n",
      "105/105 [==============================] - 0s 360us/step - loss: 0.0054 - val_loss: 0.0105\n",
      "Epoch 131/200\n",
      "105/105 [==============================] - 0s 325us/step - loss: 0.0054 - val_loss: 0.0103\n",
      "Epoch 132/200\n",
      "105/105 [==============================] - 0s 370us/step - loss: 0.0054 - val_loss: 0.0104\n",
      "Epoch 133/200\n",
      "105/105 [==============================] - 0s 352us/step - loss: 0.0053 - val_loss: 0.0103\n",
      "Epoch 134/200\n",
      "105/105 [==============================] - 0s 336us/step - loss: 0.0054 - val_loss: 0.0104\n",
      "Epoch 135/200\n",
      "105/105 [==============================] - 0s 357us/step - loss: 0.0054 - val_loss: 0.0106\n",
      "Epoch 136/200\n",
      "105/105 [==============================] - 0s 336us/step - loss: 0.0054 - val_loss: 0.0103\n",
      "Epoch 137/200\n",
      "105/105 [==============================] - 0s 398us/step - loss: 0.0054 - val_loss: 0.0104\n",
      "Epoch 138/200\n",
      "105/105 [==============================] - 0s 427us/step - loss: 0.0054 - val_loss: 0.0105\n",
      "Epoch 139/200\n",
      "105/105 [==============================] - 0s 352us/step - loss: 0.0053 - val_loss: 0.0105\n",
      "Epoch 140/200\n",
      "105/105 [==============================] - 0s 402us/step - loss: 0.0053 - val_loss: 0.0105\n",
      "Epoch 141/200\n",
      "105/105 [==============================] - 0s 394us/step - loss: 0.0054 - val_loss: 0.0104\n",
      "Epoch 142/200\n",
      "105/105 [==============================] - 0s 405us/step - loss: 0.0053 - val_loss: 0.0102\n",
      "Epoch 143/200\n",
      "105/105 [==============================] - 0s 339us/step - loss: 0.0053 - val_loss: 0.0105\n",
      "Epoch 144/200\n",
      "105/105 [==============================] - 0s 355us/step - loss: 0.0054 - val_loss: 0.0103\n",
      "Epoch 145/200\n",
      "105/105 [==============================] - 0s 390us/step - loss: 0.0053 - val_loss: 0.0103\n",
      "Epoch 146/200\n",
      "105/105 [==============================] - 0s 352us/step - loss: 0.0053 - val_loss: 0.0102\n",
      "Epoch 147/200\n",
      "105/105 [==============================] - 0s 303us/step - loss: 0.0054 - val_loss: 0.0103\n",
      "Epoch 148/200\n",
      "105/105 [==============================] - 0s 304us/step - loss: 0.0053 - val_loss: 0.0103\n",
      "Epoch 149/200\n",
      "105/105 [==============================] - 0s 311us/step - loss: 0.0054 - val_loss: 0.0105\n",
      "Epoch 150/200\n",
      "105/105 [==============================] - 0s 279us/step - loss: 0.0053 - val_loss: 0.0103\n",
      "Epoch 151/200\n",
      "105/105 [==============================] - 0s 337us/step - loss: 0.0054 - val_loss: 0.0103\n",
      "Epoch 152/200\n",
      "105/105 [==============================] - 0s 276us/step - loss: 0.0053 - val_loss: 0.0103\n",
      "Epoch 153/200\n",
      "105/105 [==============================] - 0s 326us/step - loss: 0.0054 - val_loss: 0.0104\n",
      "Epoch 154/200\n",
      "105/105 [==============================] - 0s 330us/step - loss: 0.0053 - val_loss: 0.0103\n",
      "Epoch 155/200\n",
      "105/105 [==============================] - 0s 302us/step - loss: 0.0054 - val_loss: 0.0103\n",
      "Epoch 156/200\n",
      "105/105 [==============================] - 0s 353us/step - loss: 0.0053 - val_loss: 0.0105\n",
      "Epoch 157/200\n",
      "105/105 [==============================] - 0s 297us/step - loss: 0.0053 - val_loss: 0.0103\n",
      "Epoch 158/200\n",
      "105/105 [==============================] - 0s 327us/step - loss: 0.0054 - val_loss: 0.0104\n",
      "Epoch 159/200\n",
      "105/105 [==============================] - 0s 307us/step - loss: 0.0053 - val_loss: 0.0102\n",
      "Epoch 160/200\n",
      "105/105 [==============================] - 0s 311us/step - loss: 0.0054 - val_loss: 0.0105\n",
      "Epoch 161/200\n",
      "105/105 [==============================] - 0s 333us/step - loss: 0.0053 - val_loss: 0.0104\n",
      "Epoch 162/200\n",
      "105/105 [==============================] - 0s 301us/step - loss: 0.0053 - val_loss: 0.0106\n",
      "Epoch 163/200\n",
      "105/105 [==============================] - 0s 324us/step - loss: 0.0053 - val_loss: 0.0107\n",
      "Epoch 164/200\n",
      "105/105 [==============================] - 0s 319us/step - loss: 0.0053 - val_loss: 0.0103\n",
      "Epoch 165/200\n",
      "105/105 [==============================] - 0s 292us/step - loss: 0.0053 - val_loss: 0.0104\n",
      "Epoch 166/200\n",
      "105/105 [==============================] - 0s 388us/step - loss: 0.0053 - val_loss: 0.0106\n",
      "Epoch 167/200\n",
      "105/105 [==============================] - 0s 319us/step - loss: 0.0054 - val_loss: 0.0104\n",
      "Epoch 168/200\n",
      "105/105 [==============================] - 0s 368us/step - loss: 0.0053 - val_loss: 0.0108\n",
      "Epoch 169/200\n",
      "105/105 [==============================] - 0s 341us/step - loss: 0.0054 - val_loss: 0.0105\n",
      "Epoch 170/200\n",
      "105/105 [==============================] - 0s 332us/step - loss: 0.0053 - val_loss: 0.0104\n",
      "Epoch 171/200\n",
      "105/105 [==============================] - 0s 1ms/step - loss: 0.0053 - val_loss: 0.0102\n",
      "Epoch 172/200\n",
      "105/105 [==============================] - 0s 678us/step - loss: 0.0053 - val_loss: 0.0104\n",
      "Epoch 173/200\n",
      "105/105 [==============================] - 0s 388us/step - loss: 0.0053 - val_loss: 0.0102\n",
      "Epoch 174/200\n",
      "105/105 [==============================] - 0s 438us/step - loss: 0.0053 - val_loss: 0.0103\n",
      "Epoch 175/200\n",
      "105/105 [==============================] - 0s 351us/step - loss: 0.0054 - val_loss: 0.0103\n",
      "Epoch 176/200\n",
      "105/105 [==============================] - 0s 551us/step - loss: 0.0053 - val_loss: 0.0103\n",
      "Epoch 177/200\n",
      "105/105 [==============================] - 0s 449us/step - loss: 0.0054 - val_loss: 0.0105\n",
      "Epoch 178/200\n",
      "105/105 [==============================] - 0s 520us/step - loss: 0.0053 - val_loss: 0.0107\n",
      "Epoch 179/200\n",
      "105/105 [==============================] - 0s 644us/step - loss: 0.0054 - val_loss: 0.0103\n",
      "Epoch 180/200\n",
      "105/105 [==============================] - 0s 474us/step - loss: 0.0053 - val_loss: 0.0102\n",
      "Epoch 181/200\n",
      "105/105 [==============================] - 0s 562us/step - loss: 0.0054 - val_loss: 0.0103\n",
      "Epoch 182/200\n",
      "105/105 [==============================] - 0s 326us/step - loss: 0.0053 - val_loss: 0.0104\n",
      "Epoch 183/200\n",
      "105/105 [==============================] - 0s 452us/step - loss: 0.0053 - val_loss: 0.0101\n",
      "Epoch 184/200\n",
      "105/105 [==============================] - 0s 927us/step - loss: 0.0054 - val_loss: 0.0105\n",
      "Epoch 185/200\n",
      "105/105 [==============================] - 0s 522us/step - loss: 0.0053 - val_loss: 0.0106\n",
      "Epoch 186/200\n",
      "105/105 [==============================] - 0s 383us/step - loss: 0.0053 - val_loss: 0.0104\n",
      "Epoch 187/200\n",
      "105/105 [==============================] - 0s 310us/step - loss: 0.0053 - val_loss: 0.0102\n",
      "Epoch 188/200\n",
      "105/105 [==============================] - 0s 367us/step - loss: 0.0054 - val_loss: 0.0102\n",
      "Epoch 189/200\n",
      "105/105 [==============================] - 0s 309us/step - loss: 0.0053 - val_loss: 0.0108\n",
      "Epoch 190/200\n",
      "105/105 [==============================] - 0s 327us/step - loss: 0.0054 - val_loss: 0.0104\n",
      "Epoch 191/200\n",
      "105/105 [==============================] - 0s 375us/step - loss: 0.0053 - val_loss: 0.0103\n",
      "Epoch 192/200\n",
      "105/105 [==============================] - 0s 292us/step - loss: 0.0053 - val_loss: 0.0105\n",
      "Epoch 193/200\n",
      "105/105 [==============================] - 0s 274us/step - loss: 0.0054 - val_loss: 0.0102\n",
      "Epoch 194/200\n",
      "105/105 [==============================] - 0s 353us/step - loss: 0.0054 - val_loss: 0.0103\n",
      "Epoch 195/200\n",
      "105/105 [==============================] - 0s 273us/step - loss: 0.0053 - val_loss: 0.0102\n",
      "Epoch 196/200\n",
      "105/105 [==============================] - 0s 294us/step - loss: 0.0053 - val_loss: 0.0108\n",
      "Epoch 197/200\n",
      "105/105 [==============================] - 0s 352us/step - loss: 0.0054 - val_loss: 0.0107\n",
      "Epoch 198/200\n",
      "105/105 [==============================] - 0s 331us/step - loss: 0.0054 - val_loss: 0.0104\n",
      "Epoch 199/200\n",
      "105/105 [==============================] - 0s 377us/step - loss: 0.0054 - val_loss: 0.0103\n",
      "Epoch 200/200\n",
      "105/105 [==============================] - 0s 310us/step - loss: 0.0053 - val_loss: 0.0106\n"
     ]
    }
   ],
   "source": [
    "print(x_train.shape)\n",
    "print(y_train.shape)\n",
    "print(x_test.shape)\n",
    "print(y_test.shape)\n",
    "\n",
    "history = model.fit(x_train, y_train,\n",
    "                    batch_size=4,\n",
    "                    epochs=200,\n",
    "                    verbose=1,\n",
    "                    validation_data=(x_test, y_test))"
   ]
  },
  {
   "cell_type": "markdown",
   "metadata": {},
   "source": [
    "As you can see above, we train our network down to a validation MSE < 0.01. Notice that both the training loss (\"loss\") and validation loss (\"val_loss\") are reported. It's normal for the training loss to be lower than the validation loss, since the network's objective is to predict the training data well. But if the training loss is much lower than our validation loss, it means we are overfitting and may not expect to receive very good results.\n",
    "\n",
    "We can evaluate the training set one last time at the end using `evaluate`."
   ]
  },
  {
   "cell_type": "code",
   "execution_count": 147,
   "metadata": {},
   "outputs": [
    {
     "name": "stdout",
     "output_type": "stream",
     "text": [
      "45/45 [==============================] - 0s 97us/step\n",
      "Test loss: 0.00922720053543647\n"
     ]
    }
   ],
   "source": [
    "score = model.evaluate(x_test, y_test)\n",
    "print('Test loss:', score)"
   ]
  },
  {
   "cell_type": "markdown",
   "metadata": {},
   "source": [
    "To get the raw predictions:"
   ]
  },
  {
   "cell_type": "code",
   "execution_count": 22,
   "metadata": {},
   "outputs": [
    {
     "name": "stdout",
     "output_type": "stream",
     "text": [
      "predicted 0.85, actual 0.92\n",
      "predicted 0.78, actual 1.00\n",
      "predicted 0.10, actual 0.12\n",
      "predicted 0.59, actual 0.60\n",
      "predicted 0.09, actual 0.04\n",
      "predicted 0.49, actual 0.56\n",
      "predicted 0.58, actual 0.52\n",
      "predicted 0.75, actual 0.72\n",
      "predicted 0.07, actual 0.04\n",
      "predicted 0.10, actual 0.16\n"
     ]
    }
   ],
   "source": [
    "y_pred = model.predict(x_test)\n",
    "\n",
    "for yp, ya in list(zip(y_pred, y_test))[0:10]:\n",
    "    print(\"predicted %0.2f, actual %0.2f\" % (yp, ya))"
   ]
  },
  {
   "cell_type": "markdown",
   "metadata": {},
   "source": [
    "We can manually calculate MSE as a sanity check:"
   ]
  },
  {
   "cell_type": "code",
   "execution_count": 23,
   "metadata": {},
   "outputs": [
    {
     "name": "stdout",
     "output_type": "stream",
     "text": [
      "MSE is 0.0106\n"
     ]
    }
   ],
   "source": [
    "def MSE(y_pred, y_test):\n",
    "    return (1.0/len(y_test)) * np.sum([((y1[0]-y2)**2) for y1, y2 in list(zip(y_pred, y_test))])\n",
    "\n",
    "print(\"MSE is %0.4f\" % MSE(y_pred, y_test))"
   ]
  },
  {
   "cell_type": "markdown",
   "metadata": {},
   "source": [
    "We can also predict the value of a single unknown example or a set of them in th following way:"
   ]
  },
  {
   "cell_type": "code",
   "execution_count": 24,
   "metadata": {},
   "outputs": [
    {
     "name": "stdout",
     "output_type": "stream",
     "text": [
      "predicted 0.846, actual 0.920\n"
     ]
    }
   ],
   "source": [
    "x_sample = x_test[0].reshape(1, 3)   # shape must be (num_samples, 3), even if num_samples = 1\n",
    "y_prob = model.predict(x_sample)\n",
    "\n",
    "print(\"predicted %0.3f, actual %0.3f\" % (y_prob[0][0], y_test[0]))"
   ]
  },
  {
   "cell_type": "markdown",
   "metadata": {},
   "source": [
    "We've now finished introducing Keras for regression. Note it is a far more powerful way of training neural networks than our own. Keras's strengths will become even more apparent when we introduce classification in the next lesson, as well as introduce convolutional networks and various other optimization tricks it enables for us."
   ]
  }
 ],
 "metadata": {
  "kernelspec": {
   "display_name": "Python 3",
   "language": "python",
   "name": "python3"
  },
  "language_info": {
   "codemirror_mode": {
    "name": "ipython",
    "version": 3
   },
   "file_extension": ".py",
   "mimetype": "text/x-python",
   "name": "python",
   "nbconvert_exporter": "python",
   "pygments_lexer": "ipython3",
   "version": "3.6.7"
  }
 },
 "nbformat": 4,
 "nbformat_minor": 2
}
